{
 "cells": [
  {
   "cell_type": "code",
   "execution_count": null,
   "metadata": {},
   "outputs": [],
   "source": [
    "import requests\n",
    "import re\n",
    "import os\n",
    "import time\n",
    "import datetime\n",
    "import urllib.parse\n",
    "import json\n",
    "import csv\n",
    "from bs4 import BeautifulSoup\n",
    "from selenium import webdriver"
   ]
  },
  {
   "cell_type": "code",
   "execution_count": null,
   "metadata": {},
   "outputs": [],
   "source": [
    "# get sql page html\n",
    "def getSqlHtml(mmr, startYear, startMonth, startDay, endYear, endMonth, endDay, limit):\n",
    "    startTime = \"{}-{}-{}\".format(startYear, startMonth, startDay)\n",
    "    endTime = \"{}-{}-{}\".format(endYear, endMonth, endDay)\n",
    "\n",
    "    sqlQuery =  '''\n",
    "                SELECT *\n",
    "                FROM public_matches\n",
    "                WHERE TRUE\n",
    "                AND public_matches.avg_mmr >= {}\n",
    "                AND public_matches.start_time >= extract(epoch from timestamp '{}T00:00:00+00:00')\n",
    "                AND public_matches.start_time <  extract(epoch from timestamp '{}T23:59:59+00:00')\n",
    "                AND public_matches.lobby_type = 7\n",
    "                LIMIT {}\n",
    "                '''.format(mmr,startTime,endTime,limit)\n",
    "\n",
    "    openDotaUrl = \"https://api.opendota.com/api/explorer?sql=\"\n",
    "    sqlUrl = openDotaUrl+urllib.parse.quote_plus(sqlQuery)\n",
    "    \n",
    "    options = webdriver.ChromeOptions()\n",
    "    \n",
    "    browser = webdriver.Chrome()\n",
    "    browser.implicitly_wait(10)\n",
    "    browser.get(sqlUrl)\n",
    "    myDynamicElement = browser.find_element_by_tag_name('pre')\n",
    "    html = browser.page_source\n",
    "    browser.close()\n",
    "    return html\n",
    "def jsonToCsv(json, mmr, startYear, startMonth, startDay):\n",
    "    json_data = json['rows']\n",
    "    fileName = \"{}{}{}_{}\".format(startYear,startMonth,startDay,len(json_data))\n",
    "    # open a file for writing\n",
    "    dayMatchId_data = open('{}{}.csv'.format(MATCH_PATH,fileName), 'w')\n",
    "\n",
    "    # create the csv writer object\n",
    "    csvwriter = csv.writer(dayMatchId_data)\n",
    "    count = 0\n",
    "    for jsKey in json_data:\n",
    "          if count == 0:\n",
    "                 header = jsKey.keys()\n",
    "                 csvwriter.writerow(header)\n",
    "                 count += 1\n",
    "          csvwriter.writerow(jsKey.values())\n",
    "    dayMatchId_data.close()"
   ]
  },
  {
   "cell_type": "code",
   "execution_count": null,
   "metadata": {},
   "outputs": [],
   "source": [
    "# get past 60 day\n",
    "today = datetime.date.today()\n",
    "MMR = \"5800\"\n",
    "for i in range(1,2):\n",
    "    deltaday = datetime.timedelta(days=i)\n",
    "    deltaday = today - deltaday\n",
    "    \n",
    "    \n",
    "    startYear = deltaday.strftime(\"%Y\")\n",
    "    startMonth = deltaday.strftime(\"%m\")\n",
    "    startDay = deltaday.strftime(\"%d\")\n",
    "    endYear = deltaday.strftime(\"%Y\")\n",
    "    endMonth = deltaday.strftime(\"%m\")\n",
    "    endDay = deltaday.strftime(\"%d\")\n",
    "    limit = \"10000\"\n",
    "    \n",
    "    temp = getSqlHtml(MMR, startYear, startMonth, startDay, endYear, endMonth, endDay, limit)\n",
    "    temp = BeautifulSoup(temp)\n",
    "    href_all = temp.find(\"pre\")\n",
    "    jsonText = json.loads(href_all.text)\n",
    "#     print(jsonText)\n",
    "    jsonToCsv(jsonText, MMR, startYear, startMonth, startDay)\n",
    "    \n",
    "    print(\"{} Done: {}{}\".format(i,startMonth,startDay))\n",
    "    time.sleep(1)"
   ]
  },
  {
   "cell_type": "code",
   "execution_count": null,
   "metadata": {},
   "outputs": [],
   "source": [
    "jsonText"
   ]
  },
  {
   "cell_type": "code",
   "execution_count": null,
   "metadata": {},
   "outputs": [],
   "source": []
  },
  {
   "cell_type": "code",
   "execution_count": null,
   "metadata": {},
   "outputs": [],
   "source": []
  }
 ],
 "metadata": {
  "kernelspec": {
   "display_name": "Python 3",
   "language": "python",
   "name": "python3"
  },
  "language_info": {
   "codemirror_mode": {
    "name": "ipython",
    "version": 3
   },
   "file_extension": ".py",
   "mimetype": "text/x-python",
   "name": "python",
   "nbconvert_exporter": "python",
   "pygments_lexer": "ipython3",
   "version": "3.6.7"
  }
 },
 "nbformat": 4,
 "nbformat_minor": 2
}
