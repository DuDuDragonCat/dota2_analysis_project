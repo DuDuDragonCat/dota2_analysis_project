{
 "cells": [
  {
   "cell_type": "code",
   "execution_count": 1,
   "metadata": {},
   "outputs": [],
   "source": [
    "from elasticsearch import Elasticsearch"
   ]
  },
  {
   "cell_type": "markdown",
   "metadata": {},
   "source": [
    "# init the Elasticsearch"
   ]
  },
  {
   "cell_type": "code",
   "execution_count": 2,
   "metadata": {},
   "outputs": [],
   "source": [
    "ELASTIC_INDEX = 'test'\n",
    "ELASTIC_TYPE = 'test'\n",
    "es = Elasticsearch('localhost:9200')"
   ]
  },
  {
   "cell_type": "markdown",
   "metadata": {},
   "source": [
    "# Create New index in Elasticsearch\n",
    "\n",
    "If elasticsearch exist the same index name will let program crash, so add ignore parameter to skip the error. "
   ]
  },
  {
   "cell_type": "code",
   "execution_count": 3,
   "metadata": {},
   "outputs": [
    {
     "name": "stdout",
     "output_type": "stream",
     "text": [
      "{'error': {'root_cause': [{'type': 'resource_already_exists_exception', 'reason': 'index [test/ELxjnCTMT5G-0txZbDa_iQ] already exists', 'index_uuid': 'ELxjnCTMT5G-0txZbDa_iQ', 'index': 'test'}], 'type': 'resource_already_exists_exception', 'reason': 'index [test/ELxjnCTMT5G-0txZbDa_iQ] already exists', 'index_uuid': 'ELxjnCTMT5G-0txZbDa_iQ', 'index': 'test'}, 'status': 400}\n"
     ]
    }
   ],
   "source": [
    "result = es.indices.create(index=ELASTIC_INDEX, ignore=400)\n",
    "print(result)"
   ]
  },
  {
   "cell_type": "markdown",
   "metadata": {},
   "source": [
    "# Create New Data in Elasticsearch\n",
    "\n",
    "1. es.create: create data with giving id\n",
    "2. es.index: DANGEROUS. If the id is exist, it will overwrite the whole data. If the id equal None, it will create the data by automatic id. "
   ]
  },
  {
   "cell_type": "code",
   "execution_count": 9,
   "metadata": {},
   "outputs": [
    {
     "name": "stdout",
     "output_type": "stream",
     "text": [
      "{'error': {'root_cause': [{'type': 'version_conflict_engine_exception', 'reason': '[1]: version conflict, document already exists (current version [7])', 'index_uuid': 'ELxjnCTMT5G-0txZbDa_iQ', 'shard': '0', 'index': 'test'}], 'type': 'version_conflict_engine_exception', 'reason': '[1]: version conflict, document already exists (current version [7])', 'index_uuid': 'ELxjnCTMT5G-0txZbDa_iQ', 'shard': '0', 'index': 'test'}, 'status': 409}\n"
     ]
    }
   ],
   "source": [
    "data = {\n",
    "        'match_id': '123456',\n",
    "        'radiant_win': True,\n",
    "        'start_time': '1561401628',\n",
    "        'duration': '1784',\n",
    "        'avg_mmr': '1561401628',\n",
    "        'num_mmr': '1561401628',\n",
    "        'avg_rank_tier': '80',\n",
    "        'num_rank_tier': '10',\n",
    "        'lobby_type': '1561401628',\n",
    "        'game_mode': '1'\n",
    "       }\n",
    "result = es.create(index=ELASTIC_INDEX, doc_type=ELASTIC_TYPE, id=1, body=data, ignore=[400, 404, 409])\n",
    "print(result)"
   ]
  },
  {
   "cell_type": "code",
   "execution_count": 12,
   "metadata": {},
   "outputs": [
    {
     "name": "stdout",
     "output_type": "stream",
     "text": [
      "{'_index': 'test', '_type': 'test', '_id': '1', '_version': 9, 'result': 'updated', '_shards': {'total': 2, 'successful': 1, 'failed': 0}, '_seq_no': 9, '_primary_term': 4}\n"
     ]
    }
   ],
   "source": [
    "MATCH_AUTO = 'auto_id'\n",
    "data2 = {\n",
    "        'match_id': MATCH_AUTO,\n",
    "        'radiant_win': True\n",
    "       }\n",
    "result = es.index(index=ELASTIC_INDEX, doc_type=ELASTIC_INDEX, body=data2, id=1, ignore=[400, 404, 409])\n",
    "print(result)"
   ]
  },
  {
   "cell_type": "markdown",
   "metadata": {},
   "source": [
    "# Update Data in Elasticsearch\n",
    "\n",
    "Given the id then update the data, if the same key exist the value will be replace by new value, if the key isn't exist the new key and value will be create. "
   ]
  },
  {
   "cell_type": "code",
   "execution_count": 16,
   "metadata": {
    "scrolled": true
   },
   "outputs": [
    {
     "name": "stdout",
     "output_type": "stream",
     "text": [
      "{'error': {'root_cause': [{'type': 'document_missing_exception', 'reason': '[test][5]: document missing', 'index_uuid': 'ELxjnCTMT5G-0txZbDa_iQ', 'shard': '0', 'index': 'test'}], 'type': 'document_missing_exception', 'reason': '[test][5]: document missing', 'index_uuid': 'ELxjnCTMT5G-0txZbDa_iQ', 'shard': '0', 'index': 'test'}, 'status': 404}\n"
     ]
    }
   ],
   "source": [
    "data2 = {\n",
    "    'gg': '199'\n",
    "}\n",
    "result = es.update(index=ELASTIC_INDEX, doc_type=ELASTIC_TYPE, id=5, body={\"doc\": data2}, ignore=[400, 404])\n",
    "print(result)"
   ]
  },
  {
   "cell_type": "markdown",
   "metadata": {},
   "source": [
    "# Get Data by index, doc_type and id\n",
    "\n",
    "Given the index, doc_type and id response the data, add ignore parameter prvent program crash."
   ]
  },
  {
   "cell_type": "code",
   "execution_count": 13,
   "metadata": {},
   "outputs": [
    {
     "name": "stdout",
     "output_type": "stream",
     "text": [
      "{'_index': 'test', '_type': 'test', '_id': '1', '_version': 9, '_seq_no': 9, '_primary_term': 4, 'found': True, '_source': {'match_id': 'auto_id', 'radiant_win': True}}\n"
     ]
    }
   ],
   "source": [
    "result = es.get(index=ELASTIC_INDEX, doc_type=ELASTIC_TYPE, id=1, ignore=[400, 404])\n",
    "print(result)"
   ]
  },
  {
   "cell_type": "markdown",
   "metadata": {},
   "source": [
    "# Get Data by index\n",
    "\n",
    "Get all data in the index, use body to given serach query\n",
    "\n",
    "Reference web:\n",
    "1. [Elasticsearch: 权威指南>基础入门>请求体查询>查询表达式](https://www.elastic.co/guide/cn/elasticsearch/guide/current/query-dsl-intro.html)"
   ]
  },
  {
   "cell_type": "code",
   "execution_count": 20,
   "metadata": {},
   "outputs": [
    {
     "data": {
      "text/plain": [
       "{'took': 1,\n",
       " 'timed_out': False,\n",
       " '_shards': {'total': 1, 'successful': 1, 'skipped': 0, 'failed': 0},\n",
       " 'hits': {'total': {'value': 0, 'relation': 'eq'},\n",
       "  'max_score': None,\n",
       "  'hits': []}}"
      ]
     },
     "execution_count": 20,
     "metadata": {},
     "output_type": "execute_result"
    }
   ],
   "source": [
    "queryData={\"query\": {\"match\": {\"match_id\":\"auto\"}}}\n",
    "es.search(index=ELASTIC_INDEX, body=queryData)"
   ]
  }
 ],
 "metadata": {
  "kernelspec": {
   "display_name": "Python 3",
   "language": "python",
   "name": "python3"
  },
  "language_info": {
   "codemirror_mode": {
    "name": "ipython",
    "version": 3
   },
   "file_extension": ".py",
   "mimetype": "text/x-python",
   "name": "python",
   "nbconvert_exporter": "python",
   "pygments_lexer": "ipython3",
   "version": "3.6.7"
  }
 },
 "nbformat": 4,
 "nbformat_minor": 2
}
